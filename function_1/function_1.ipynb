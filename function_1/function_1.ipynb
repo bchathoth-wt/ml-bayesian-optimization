{
 "cells": [
  {
   "cell_type": "code",
   "execution_count": 4,
   "metadata": {},
   "outputs": [],
   "source": [
    "import numpy as np\n",
    "import matplotlib.pyplot as plt\n",
    "from sklearn.gaussian_process import GaussianProcessRegressor, kernels\n",
    "from scipy.stats import norm\n",
    "from sklearn.gaussian_process.kernels import Matern, RBF"
   ]
  },
  {
   "cell_type": "markdown",
   "metadata": {},
   "source": [
    "## Capstone Project Strategy"
   ]
  },
  {
   "cell_type": "markdown",
   "metadata": {},
   "source": [
    "We begin this guide by downloading the data:"
   ]
  },
  {
   "cell_type": "code",
   "execution_count": 5,
   "metadata": {},
   "outputs": [],
   "source": [
    "X_org = np.load('initial_inputs.npy')\n",
    "y_org = np.load('initial_outputs.npy')\n"
   ]
  },
  {
   "cell_type": "code",
   "execution_count": 6,
   "metadata": {},
   "outputs": [],
   "source": [
    "run_1 = np.array([[0.000001, 0.999999],\n",
    "                  [0.65, 0.69], \n",
    "                  [0.6, 0.69],\n",
    "                  [0.601010,0.690000],\n",
    "                  [0.602525, 0.690000],\n",
    "                  [0.75, 0.80000]               \n",
    "                  ])\n",
    "X=np.append(X_org, run_1, axis=0)\n",
    "y=np.append(y_org, [0.000001, \n",
    "                    -0.00115132938047271, \n",
    "                    -0.000416038503358301,\n",
    "                    -0.000495322284279355,\n",
    "                    -0.000630240746793045,\n",
    "                    -0.000495,\n",
    "                    ], axis=0)"
   ]
  },
  {
   "cell_type": "markdown",
   "metadata": {},
   "source": [
    "### Random Search"
   ]
  },
  {
   "cell_type": "markdown",
   "metadata": {},
   "source": [
    "The simplest solution would be a simple random search, that is, we can randomly choose our next query point.\n",
    "\n",
    "This is used only for first two search - exploration."
   ]
  },
  {
   "cell_type": "code",
   "execution_count": 7,
   "metadata": {},
   "outputs": [
    {
     "name": "stdout",
     "output_type": "stream",
     "text": [
      "[0.62769383 0.73629677]\n"
     ]
    }
   ],
   "source": [
    "next_query = np.random.uniform(size = 2)\n",
    "print(next_query)"
   ]
  },
  {
   "cell_type": "markdown",
   "metadata": {},
   "source": [
    "### Upper Confidence Bound"
   ]
  },
  {
   "cell_type": "markdown",
   "metadata": {},
   "source": [
    "A second alternative would be to use Bayesian Optimization and consider an Upper Confidence Bound acquisition function: "
   ]
  },
  {
   "cell_type": "code",
   "execution_count": 8,
   "metadata": {},
   "outputs": [],
   "source": [
    "# Define Gaussian Process model with RBF kernel\n",
    "kernel = 1.0 * RBF(length_scale=1.0, length_scale_bounds=(1e-2, 1e2))\n",
    "gpr = GaussianProcessRegressor(kernel=kernel, alpha=1e-6, normalize_y=True)"
   ]
  },
  {
   "cell_type": "code",
   "execution_count": 9,
   "metadata": {},
   "outputs": [
    {
     "name": "stderr",
     "output_type": "stream",
     "text": [
      "/Library/Frameworks/Python.framework/Versions/3.8/lib/python3.8/site-packages/sklearn/gaussian_process/kernels.py:419: ConvergenceWarning: The optimal value found for dimension 0 of parameter k2__length_scale is close to the specified lower bound 0.01. Decreasing the bound and calling fit again may find a better value.\n",
      "  warnings.warn(\n"
     ]
    },
    {
     "data": {
      "text/html": [
       "<style>#sk-container-id-1 {color: black;}#sk-container-id-1 pre{padding: 0;}#sk-container-id-1 div.sk-toggleable {background-color: white;}#sk-container-id-1 label.sk-toggleable__label {cursor: pointer;display: block;width: 100%;margin-bottom: 0;padding: 0.3em;box-sizing: border-box;text-align: center;}#sk-container-id-1 label.sk-toggleable__label-arrow:before {content: \"▸\";float: left;margin-right: 0.25em;color: #696969;}#sk-container-id-1 label.sk-toggleable__label-arrow:hover:before {color: black;}#sk-container-id-1 div.sk-estimator:hover label.sk-toggleable__label-arrow:before {color: black;}#sk-container-id-1 div.sk-toggleable__content {max-height: 0;max-width: 0;overflow: hidden;text-align: left;background-color: #f0f8ff;}#sk-container-id-1 div.sk-toggleable__content pre {margin: 0.2em;color: black;border-radius: 0.25em;background-color: #f0f8ff;}#sk-container-id-1 input.sk-toggleable__control:checked~div.sk-toggleable__content {max-height: 200px;max-width: 100%;overflow: auto;}#sk-container-id-1 input.sk-toggleable__control:checked~label.sk-toggleable__label-arrow:before {content: \"▾\";}#sk-container-id-1 div.sk-estimator input.sk-toggleable__control:checked~label.sk-toggleable__label {background-color: #d4ebff;}#sk-container-id-1 div.sk-label input.sk-toggleable__control:checked~label.sk-toggleable__label {background-color: #d4ebff;}#sk-container-id-1 input.sk-hidden--visually {border: 0;clip: rect(1px 1px 1px 1px);clip: rect(1px, 1px, 1px, 1px);height: 1px;margin: -1px;overflow: hidden;padding: 0;position: absolute;width: 1px;}#sk-container-id-1 div.sk-estimator {font-family: monospace;background-color: #f0f8ff;border: 1px dotted black;border-radius: 0.25em;box-sizing: border-box;margin-bottom: 0.5em;}#sk-container-id-1 div.sk-estimator:hover {background-color: #d4ebff;}#sk-container-id-1 div.sk-parallel-item::after {content: \"\";width: 100%;border-bottom: 1px solid gray;flex-grow: 1;}#sk-container-id-1 div.sk-label:hover label.sk-toggleable__label {background-color: #d4ebff;}#sk-container-id-1 div.sk-serial::before {content: \"\";position: absolute;border-left: 1px solid gray;box-sizing: border-box;top: 0;bottom: 0;left: 50%;z-index: 0;}#sk-container-id-1 div.sk-serial {display: flex;flex-direction: column;align-items: center;background-color: white;padding-right: 0.2em;padding-left: 0.2em;position: relative;}#sk-container-id-1 div.sk-item {position: relative;z-index: 1;}#sk-container-id-1 div.sk-parallel {display: flex;align-items: stretch;justify-content: center;background-color: white;position: relative;}#sk-container-id-1 div.sk-item::before, #sk-container-id-1 div.sk-parallel-item::before {content: \"\";position: absolute;border-left: 1px solid gray;box-sizing: border-box;top: 0;bottom: 0;left: 50%;z-index: -1;}#sk-container-id-1 div.sk-parallel-item {display: flex;flex-direction: column;z-index: 1;position: relative;background-color: white;}#sk-container-id-1 div.sk-parallel-item:first-child::after {align-self: flex-end;width: 50%;}#sk-container-id-1 div.sk-parallel-item:last-child::after {align-self: flex-start;width: 50%;}#sk-container-id-1 div.sk-parallel-item:only-child::after {width: 0;}#sk-container-id-1 div.sk-dashed-wrapped {border: 1px dashed gray;margin: 0 0.4em 0.5em 0.4em;box-sizing: border-box;padding-bottom: 0.4em;background-color: white;}#sk-container-id-1 div.sk-label label {font-family: monospace;font-weight: bold;display: inline-block;line-height: 1.2em;}#sk-container-id-1 div.sk-label-container {text-align: center;}#sk-container-id-1 div.sk-container {/* jupyter's `normalize.less` sets `[hidden] { display: none; }` but bootstrap.min.css set `[hidden] { display: none !important; }` so we also need the `!important` here to be able to override the default hidden behavior on the sphinx rendered scikit-learn.org. See: https://github.com/scikit-learn/scikit-learn/issues/21755 */display: inline-block !important;position: relative;}#sk-container-id-1 div.sk-text-repr-fallback {display: none;}</style><div id=\"sk-container-id-1\" class=\"sk-top-container\"><div class=\"sk-text-repr-fallback\"><pre>GaussianProcessRegressor(alpha=1e-06, kernel=1**2 * RBF(length_scale=1),\n",
       "                         normalize_y=True)</pre><b>In a Jupyter environment, please rerun this cell to show the HTML representation or trust the notebook. <br />On GitHub, the HTML representation is unable to render, please try loading this page with nbviewer.org.</b></div><div class=\"sk-container\" hidden><div class=\"sk-item\"><div class=\"sk-estimator sk-toggleable\"><input class=\"sk-toggleable__control sk-hidden--visually\" id=\"sk-estimator-id-1\" type=\"checkbox\" checked><label for=\"sk-estimator-id-1\" class=\"sk-toggleable__label sk-toggleable__label-arrow\">GaussianProcessRegressor</label><div class=\"sk-toggleable__content\"><pre>GaussianProcessRegressor(alpha=1e-06, kernel=1**2 * RBF(length_scale=1),\n",
       "                         normalize_y=True)</pre></div></div></div></div></div>"
      ],
      "text/plain": [
       "GaussianProcessRegressor(alpha=1e-06, kernel=1**2 * RBF(length_scale=1),\n",
       "                         normalize_y=True)"
      ]
     },
     "execution_count": 9,
     "metadata": {},
     "output_type": "execute_result"
    }
   ],
   "source": [
    "# Define Gaussian Process model\n",
    "#kernel = kernels.Matern(nu=2.5)\n",
    "#gpr = GaussianProcessRegressor(kernel=kernel, alpha=1e-6, normalize_y=True)\n",
    "\n",
    "#gpr = GaussianProcessRegressor()\n",
    "\n",
    "gpr.fit(X, y)"
   ]
  },
  {
   "cell_type": "code",
   "execution_count": 10,
   "metadata": {},
   "outputs": [],
   "source": [
    "# Define the acquisition function (Expected Improvement)\n",
    "def expected_improvement(X, X_sample, Y_sample, gpr, xi=0.5):\n",
    "    mu, sigma = gpr.predict(X, return_std=True)\n",
    "    mu_sample = gpr.predict(X_sample)\n",
    "    \n",
    "    mu_sample_opt = np.max(Y_sample)  # Use actual observed values\n",
    "    \n",
    "    with np.errstate(divide='warn'):\n",
    "        imp = mu - mu_sample_opt - xi\n",
    "        Z = imp / sigma\n",
    "        ei = imp * norm.cdf(Z) + sigma * norm.pdf(Z)\n",
    "        ei[sigma == 0.0] = 0.0  # Ensure correct dimensions\n",
    "    \n",
    "    return ei"
   ]
  },
  {
   "cell_type": "code",
   "execution_count": 11,
   "metadata": {},
   "outputs": [],
   "source": [
    "def upper_confidence_bound(X, gpr, kappa=2.5):\n",
    "    mu, sigma = gpr.predict(X, return_std=True)\n",
    "    ucb = mu + kappa * sigma\n",
    "    return ucb"
   ]
  },
  {
   "cell_type": "code",
   "execution_count": 12,
   "metadata": {},
   "outputs": [],
   "source": [
    "# to optimize the acquisition function, we will simply use gridsearch over a space of 10.000 gridpoints\n",
    "x1 = np.linspace(0, 1, 100)\n",
    "x2 = np.linspace(0, 1, 100)"
   ]
  },
  {
   "cell_type": "code",
   "execution_count": 13,
   "metadata": {},
   "outputs": [
    {
     "data": {
      "text/plain": [
       "(10000, 2)"
      ]
     },
     "execution_count": 13,
     "metadata": {},
     "output_type": "execute_result"
    }
   ],
   "source": [
    "X_grid = np.array([[x1_i, x2_j] for x1_i in x1 for x2_j in x2])\n",
    "X_grid.shape"
   ]
  },
  {
   "cell_type": "code",
   "execution_count": 14,
   "metadata": {},
   "outputs": [
    {
     "name": "stdout",
     "output_type": "stream",
     "text": [
      "Next query point: [0. 0.]\n"
     ]
    }
   ],
   "source": [
    "# Evaluate the acquisition function on the grid\n",
    "ei = expected_improvement(X_grid, X, y, gpr)\n",
    "# Find the next query point\n",
    "next_query_ei = X_grid[np.argmax(ei)]\n",
    "print('Next query point:', next_query_ei)"
   ]
  },
  {
   "cell_type": "code",
   "execution_count": 15,
   "metadata": {},
   "outputs": [
    {
     "name": "stdout",
     "output_type": "stream",
     "text": [
      "Next query point: [0.64646465 0.70707071]\n"
     ]
    }
   ],
   "source": [
    "# Evaluate the acquisition function on the grid\n",
    "ucb = upper_confidence_bound(X_grid, gpr, kappa=2.5)\n",
    "\n",
    "# Ensure correct shape for plotting\n",
    "ucb = ucb.reshape(100, 100)\n",
    "\n",
    "# Find the next query point\n",
    "next_query = X_grid[np.argmax(ucb)]\n",
    "print('Next query point:', next_query)"
   ]
  },
  {
   "cell_type": "markdown",
   "metadata": {},
   "source": [
    "## Visualizing our data and thinking of the problem"
   ]
  },
  {
   "cell_type": "markdown",
   "metadata": {},
   "source": [
    "It is important when tackling problems to really think about the best strategy and to do some exploratory data analysis. Let's consider what we know about the problem:\n",
    "\n",
    "1. From the hints, we expect two modes in the unknown function.\n",
    "\n",
    "2. From the hints, we know that most of our queries should be zero!\n",
    "\n",
    "3. The problem is two-dimensional.\n",
    "\n",
    "4. The problem will have small length-scale (that is, we expect the modes to be very small)\n",
    "\n",
    "From (3.) we can take advantage, and plot the initial data:"
   ]
  },
  {
   "cell_type": "code",
   "execution_count": 16,
   "metadata": {},
   "outputs": [
    {
     "data": {
      "image/png": "[encoded data removed]",
      "text/plain": [
       "<Figure size 1000x800 with 2 Axes>"
      ]
     },
     "metadata": {},
     "output_type": "display_data"
    }
   ],
   "source": [
    "# Plot the acquisition function\n",
    "plt.figure(figsize=(10, 8))\n",
    "plt.contourf(x1, x2, ei.reshape(100, 100), levels=50, cmap='viridis')\n",
    "plt.colorbar()\n",
    "plt.scatter(X[:, 0], X[:, 1], c='red', s=50, label='Data Points')\n",
    "plt.scatter(next_query[0], next_query[1], c='blue', s=100, label='Next Query Point')\n",
    "plt.title('Expected Improvement Acquisition Function')\n",
    "plt.xlabel('x1')\n",
    "plt.ylabel('x2')\n",
    "plt.legend()\n",
    "plt.show()"
   ]
  },
  {
   "cell_type": "markdown",
   "metadata": {},
   "source": [
    "Doing this every week, we expect to be able to find the first of the two modes! This should would be enough to provide a good solution to the problem. To really verify if we found the maximum, we would need to find a second mode, however, we may be unlucky and simply never find it. This is an important part of Machine Learning: in theory we might want optimal, perfect solutions, but in practice most of the advancements can be done with simple solutions and careful consideration of the data available to us."
   ]
  },
  {
   "cell_type": "code",
   "execution_count": 17,
   "metadata": {},
   "outputs": [
    {
     "name": "stdout",
     "output_type": "stream",
     "text": [
      "0.646464-0.707070\n"
     ]
    }
   ],
   "source": [
    "print(f\"{str(next_query[0])[:8].ljust(8,'0')}-{str(next_query[1])[:8].ljust(8,'0')}\")"
   ]
  }
 ],
 "metadata": {
  "interpreter": {
   "hash": "d37abda7630e259e5026a5079657683a09f6e3d11473720762ebe7250c494840"
  },
  "kernelspec": {
   "display_name": "Python 3 (ipykernel)",
   "language": "python",
   "name": "python3"
  },
  "language_info": {
   "codemirror_mode": {
    "name": "ipython",
    "version": 3
   },
   "file_extension": ".py",
   "mimetype": "text/x-python",
   "name": "python",
   "nbconvert_exporter": "python",
   "pygments_lexer": "ipython3",
   "version": "3.8.2"
  }
 },
 "nbformat": 4,
 "nbformat_minor": 2
}
